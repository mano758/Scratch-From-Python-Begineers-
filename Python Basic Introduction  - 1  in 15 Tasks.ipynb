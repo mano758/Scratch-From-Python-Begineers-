{
 "cells": [
  {
   "cell_type": "markdown",
   "metadata": {},
   "source": [
    "### Python "
   ]
  },
  {
   "cell_type": "markdown",
   "metadata": {},
   "source": [
    "######  Python is a general-purpose interpreted, interactive, object-oriented, and high-level programming language. \n",
    "\n",
    "###### It was created by Guido van Rossum during 1985- 1990. Like Perl, Python source code is also available under the GNU General Public License (GPL). This tutorial gives enough understanding on Python programming language.\n",
    "\n",
    "####   Why to Learn Python?\n",
    "\n",
    "* Python is a high-level, interpreted, interactive and object-oriented scripting language. Python is designed to be highly readable. It uses English keywords frequently where as other languages use punctuation, and it has fewer syntactical constructions than other languages.\n",
    "\n",
    "* Python is a MUST for students and working professionals to become a great Software Engineer specially when they are working in Web Development Domain. I will list down some of the key advantages of learning Python:\n",
    "\n",
    "* Python is Interpreted − Python is processed at runtime by the interpreter. You do not need to compile your program before executing it. This is similar to PERL and PHP.\n",
    "\n",
    "* Python is Interactive − You can actually sit at a Python prompt and interact with the interpreter directly to write your programs.\n",
    "\n",
    "* Python is Object-Oriented − Python supports Object-Oriented style or technique of programming that encapsulates code within objects.\n",
    "\n",
    "* Python is a Beginner's Language − Python is a great language for the beginner-level programmers and supports the development of a wide range of applications from simple text processing to WWW browsers to games.\n",
    "\n",
    "####  ***   Characteristics of Python\n",
    " \n",
    "Following are important characteristics of Python Programming −\n",
    "\n",
    "* It supports functional and structured programming methods as well as OOPS.\n",
    "\n",
    "* It can be used as a scripting language or can be compiled to byte-code for building large applications.\n",
    "\n",
    "* It provides very high-level dynamic data types and supports dynamic type checking.\n",
    "\n",
    "* It supports automatic garbage collection.\n",
    "\n",
    "* It can be easily integrated with C, C++, COM, ActiveX, CORBA, and Java.\n",
    "\n",
    "Hello World using Python\n",
    "\n",
    "* Just to give you a little excitement about Python, I'm going to give you a small conventional Python Hello World program, You can try it using Demo link.\n",
    "\n",
    "print (\"Hello, Python!\");\n",
    "\n",
    "#### Applications of Python\n",
    "\n",
    "* As mentioned before, Python is one of the most widely used language over the web. I'm going to list few of them here:\n",
    "\n",
    "* Easy-to-learn − Python has few keywords, simple structure, and a clearly defined syntax. This allows the student to pick up the language quickly.\n",
    "\n",
    "* Easy-to-read − Python code is more clearly defined and visible to the eyes.\n",
    "\n",
    "* Easy-to-maintain − Python's source code is fairly easy-to-maintain.\n",
    "\n",
    "* A broad standard library − Python's bulk of the library is very portable and cross-platform compatible on UNIX, Windows, and Macintosh.\n",
    "\n",
    "* Interactive Mode − Python has support for an interactive mode which allows interactive testing and debugging of snippets of code.\n",
    "\n",
    "* Portable − Python can run on a wide variety of hardware platforms and has the same interface on all platforms.\n",
    "\n",
    "* Extendable − You can add low-level modules to the Python interpreter. These modules enable programmers to add to or customize their tools to be more efficient.\n",
    "\n",
    "* Databases − Python provides interfaces to all major commercial databases.\n",
    "\n",
    "GUI Programming − Python supports GUI applications that can be created and ported to many system calls, libraries and windows systems, such as Windows MFC, Macintosh, and the X Window system of Unix.\n",
    "\n",
    "Scalable − Python provides a better structure and support for large programs than shell scripting.\n",
    "\n",
    "Audience\n",
    "This Python tutorial is designed for software programmers who need to learn Python programming language from scratch."
   ]
  },
  {
   "cell_type": "code",
   "execution_count": null,
   "metadata": {},
   "outputs": [],
   "source": [
    "counter = 100          # An integer assignment\n",
    "miles   = 1000.0       # A floating point\n",
    "name    = \"John\"       # A string\n",
    "\n",
    "print(counter)\n",
    "print(miles)\n",
    "print(name)"
   ]
  },
  {
   "cell_type": "markdown",
   "metadata": {},
   "source": [
    "### Multiple Assignment\n",
    "Python allows you to assign a single value to several variables simultaneously. For example −\n",
    "\n",
    "a = b = c = 1\n",
    "Here, an integer object is created with the value 1, and all three variables are assigned to the same memory location.\n",
    "You can also assign multiple objects to multiple variables. For example −\n",
    "\n",
    "a,b,c = 1,2,\"john\"\n",
    "\n",
    "Here, two integer objects with values 1 and 2 are assigned to variables a and b respectively, and one string object with the \n",
    "value \"john\" is assigned to the variable c.\n",
    "\n",
    "### Standard Data Types\n",
    "The data stored in memory can be of many types. For example, a person's age is stored as a numeric value and his or her address\n",
    "is stored as alphanumeric characters. Python has various standard data types that are used to define the operations possible on \n",
    "them and the storage method for each of them.\n",
    "\n",
    "\n",
    "\n",
    "\n",
    "\n",
    "* Python has five standard data types −\n",
    "\n",
    "* Numbers\n",
    "* String\n",
    "* List\n",
    "* Tuple\n",
    "* Dictionary\n",
    "* Python Numbers\n",
    "\n",
    "* Number data types store numeric values. Number objects are created when you assign a value to them. For example −\n"
   ]
  },
  {
   "cell_type": "markdown",
   "metadata": {},
   "source": [
    " * Python Numbers\n",
    "* Number data types store numeric values. Number objects are created when you assign a value to them. For example −"
   ]
  },
  {
   "cell_type": "code",
   "execution_count": null,
   "metadata": {},
   "outputs": [],
   "source": [
    "var1 = 1\n",
    "var2 = 10\n",
    "# You can also delete the reference to a number object by using the del statement. The syntax of the del statement is −\n",
    "# del  var1[,var2[,var3[....,varN]]]]\n",
    "# You can delete a single object or multiple objects by using the del statement. For example −\n",
    "\n",
    "del var1\n",
    "# del var_a, var_b"
   ]
  },
  {
   "cell_type": "code",
   "execution_count": null,
   "metadata": {},
   "outputs": [],
   "source": [
    "str = 'Hello World!'\n",
    "\n",
    "print(str)          # Prints complete string\n",
    "print(str[0])       # Prints first character of the string\n",
    "print(str[2:5])     # Prints characters starting from 3rd to 5th\n",
    "print(str[2:])      # Prints string starting from 3rd character\n",
    "print(str* 2)      # Prints string two times\n",
    "print(str + \"TEST\") # Prints concatenated string"
   ]
  },
  {
   "cell_type": "markdown",
   "metadata": {},
   "source": [
    "### 1. Python supports four different numerical types \n",
    "\n",
    "*  int (signed integers)\n",
    "*  long (long integers, they can also be represented in octal and hexadecimal)\n",
    "* float (floating point real values)\n",
    "* complex (complex numbers)\n",
    "\n",
    "\n",
    "\n",
    "*  Python allows you to use a lowercase l with long, but it is recommended that you use only an uppercase L to avoid confusion with the number 1. Python displays long integers with an uppercase L.\n",
    "\n",
    "* A complex number consists of an ordered pair of real floating-point numbers denoted by x + yj,  where x and y are the real numbers and j is the imaginary unit.\n"
   ]
  },
  {
   "cell_type": "markdown",
   "metadata": {},
   "source": [
    "### 2. Python Strings\n",
    "\n",
    "* Strings in Python are identified as a contiguous set of characters represented in the quotation marks.Python allows for \n",
    "  either pairs of single or double quotes. Subsets of strings can be taken using the slice operator ([ ] and [:] ) with \n",
    "  indexes starting at 0 in the beginning of the string and working their way from -1 at the end.\n",
    "\n",
    "* The plus (+) sign is the string concatenation operator and the asterisk (*) is the repetition operator. For example −"
   ]
  },
  {
   "cell_type": "code",
   "execution_count": null,
   "metadata": {},
   "outputs": [],
   "source": [
    "list = [ 'abcd', 786 , 2.23, 'john', 70.2 ]\n",
    "tinylist = [123, 'john']\n",
    "\n",
    "print(list)              # Prints complete list\n",
    "print(list[0])           # Prints first element of the list\n",
    "print(list[1:3])         # Prints elements starting from 2nd till 3rd \n",
    "print(list[2:])          # Prints elements starting from 3rd element\n",
    "print(tinylist * 2)      # Prints list two times\n",
    "print(list + tinylist)   # Prints concatenated lists"
   ]
  },
  {
   "cell_type": "markdown",
   "metadata": {},
   "source": [
    "###  Task - 1 ......................Airthematic Operation "
   ]
  },
  {
   "cell_type": "code",
   "execution_count": null,
   "metadata": {},
   "outputs": [],
   "source": [
    "print(7+5)\n",
    "print(22222-123456)\n",
    "print(234*45)\n",
    "print(458/4)  ## Getting Float Number\n",
    "print(322%7)\n",
    "print(45//2)\n",
    "print(45//5) \n",
    "print(7+5-8)\n",
    "print(7+5*8) ## BODMAS Rule \n",
    "print(7**3)\n",
    "print(\"Manohar\")\n",
    "print(\"Manohar's\")\n",
    "print('Manohar\\'s \"Laptop\"') ## Important of Back slash \n",
    "print(\"Manoharmanohar's\")\n",
    "print('Manohar'*7)\n",
    "print('c:\\doc\\Manohar')\n",
    "print(r'c:\\doc\\Manohar')"
   ]
  },
  {
   "cell_type": "markdown",
   "metadata": {},
   "source": [
    "### Task 2 ...............................Variables (Container)\n",
    "\n",
    "Variables are nothing but reserved memory locations to store values. This means that when you create a variable you reserve some space in memory.\n",
    "\n",
    "Based on the data type of a variable, the interpreter allocates memory and decides what can be stored in the reserved memory. Therefore, by assigning different data types to variables, you can store integers, decimals or characters in these variables.\n",
    "\n",
    "Assigning Values to Variables\n",
    "\n",
    "Python variables do not need explicit declaration to reserve memory space. The declaration happens automatically when you assign a value to a variable. The equal sign (=) is used to assign values to variables.\n",
    "\n",
    "The operand to the left of the = operator is the name of the variable and the operand to the right of the = operator is the value stored in the variable. For "
   ]
  },
  {
   "cell_type": "code",
   "execution_count": null,
   "metadata": {},
   "outputs": [],
   "source": [
    "x = 7+5\n",
    "x"
   ]
  },
  {
   "cell_type": "code",
   "execution_count": null,
   "metadata": {},
   "outputs": [],
   "source": [
    "x = 7\n",
    "x + 5"
   ]
  },
  {
   "cell_type": "code",
   "execution_count": null,
   "metadata": {},
   "outputs": [],
   "source": [
    "y = 5\n",
    "x + y"
   ]
  },
  {
   "cell_type": "code",
   "execution_count": null,
   "metadata": {},
   "outputs": [],
   "source": [
    "x = 9\n",
    "x + y"
   ]
  },
  {
   "cell_type": "code",
   "execution_count": null,
   "metadata": {},
   "outputs": [],
   "source": [
    "_ + y ## _ Reports the previous Operation 14+5"
   ]
  },
  {
   "cell_type": "code",
   "execution_count": null,
   "metadata": {},
   "outputs": [],
   "source": [
    "name = 'Maharajas'  # Variable with string \n",
    "name"
   ]
  },
  {
   "cell_type": "code",
   "execution_count": null,
   "metadata": {},
   "outputs": [],
   "source": [
    "name +  ' Internationals'  # Space Is more important "
   ]
  },
  {
   "cell_type": "code",
   "execution_count": null,
   "metadata": {},
   "outputs": [],
   "source": [
    "name[7]"
   ]
  },
  {
   "cell_type": "code",
   "execution_count": null,
   "metadata": {},
   "outputs": [],
   "source": [
    "name[-7]"
   ]
  },
  {
   "cell_type": "code",
   "execution_count": null,
   "metadata": {},
   "outputs": [],
   "source": [
    "name[0:7]"
   ]
  },
  {
   "cell_type": "code",
   "execution_count": null,
   "metadata": {},
   "outputs": [],
   "source": [
    "name[1:]"
   ]
  },
  {
   "cell_type": "code",
   "execution_count": null,
   "metadata": {},
   "outputs": [],
   "source": [
    "name[:7]"
   ]
  },
  {
   "cell_type": "code",
   "execution_count": null,
   "metadata": {},
   "outputs": [],
   "source": [
    "name[:]"
   ]
  },
  {
   "cell_type": "code",
   "execution_count": null,
   "metadata": {},
   "outputs": [],
   "source": [
    "name[:-3]"
   ]
  },
  {
   "cell_type": "markdown",
   "metadata": {},
   "source": [
    "##### Strings In Python is mutable "
   ]
  },
  {
   "cell_type": "code",
   "execution_count": null,
   "metadata": {},
   "outputs": [],
   "source": [
    "#  name[0] = R ## Immutable we Cannot chane in the string "
   ]
  },
  {
   "cell_type": "code",
   "execution_count": null,
   "metadata": {},
   "outputs": [],
   "source": [
    "'Raja'+name[4:]"
   ]
  },
  {
   "cell_type": "code",
   "execution_count": null,
   "metadata": {},
   "outputs": [],
   "source": [
    "len(name)"
   ]
  },
  {
   "cell_type": "markdown",
   "metadata": {},
   "source": [
    "### Task 3 ................................. Lists[Mutable]\n",
    "\n",
    "\n",
    "* Lists are the most versatile of Python's compound data types. A list contains items separated by commas and enclosed within \n",
    "  square brackets ([]). To some extent, lists are similar to arrays in C.One difference between them is that all the items\n",
    "  belonging to a list can be of different data type.\n",
    "\n",
    "* The values stored in a list can be accessed using the slice operator ([ ] and [:]) with indexes starting at 0 in the beginning\n",
    "   of the list and working their way to end -1. The plus (+) sign is the list concatenation operator, and the asterisk (*) is\n",
    "  the repetition operator. For example −"
   ]
  },
  {
   "cell_type": "code",
   "execution_count": null,
   "metadata": {},
   "outputs": [],
   "source": [
    "nums = [7,5,8,75,78,57,58,87,85]\n",
    "print(nums[5])\n",
    "print(nums[4:7])\n",
    "print(nums[-7:])\n",
    "print(nums[-6:-4])"
   ]
  },
  {
   "cell_type": "code",
   "execution_count": null,
   "metadata": {},
   "outputs": [],
   "source": [
    "brothers = ['chanti','lachi','Manohar']\n",
    "value = [8,5,7]\n",
    "lucky_number = [brothers,value]\n",
    "#lucky_number.clear()\n",
    "value.append(1) # at last you can Attach \n",
    "value.insert(3,11)  ## It is inserting the 11 value in the 3 rd place \n",
    "value"
   ]
  },
  {
   "cell_type": "code",
   "execution_count": null,
   "metadata": {},
   "outputs": [],
   "source": [
    "print(value.pop(4))\n",
    "print(value.pop()) ## It will automatically pop up the last value "
   ]
  },
  {
   "cell_type": "code",
   "execution_count": null,
   "metadata": {},
   "outputs": [],
   "source": [
    "del value[3:] ## Deletintg the value \n",
    "value"
   ]
  },
  {
   "cell_type": "code",
   "execution_count": null,
   "metadata": {},
   "outputs": [],
   "source": [
    "value.extend([24,34,44,54])\n",
    "value"
   ]
  },
  {
   "cell_type": "code",
   "execution_count": null,
   "metadata": {},
   "outputs": [],
   "source": [
    "min(value)\n",
    "max(value)\n",
    "sum(value)\n",
    "value.sort()\n",
    "value"
   ]
  },
  {
   "cell_type": "code",
   "execution_count": null,
   "metadata": {},
   "outputs": [],
   "source": [
    "list = [ 'abcd', 786 , 2.23, 'john', 70.2 ]\n",
    "tinylist = [123, 'john']\n",
    "\n",
    "print(list)              # Prints complete list\n",
    "print(list[0])           # Prints first element of the list\n",
    "print(list[1:3])         # Prints elements starting from 2nd till 3rd \n",
    "print(list[2:])          # Prints elements starting from 3rd element\n",
    "print(tinylist * 2)      # Prints list two times\n",
    "print(list + tinylist)   # Prints concatenated lists"
   ]
  },
  {
   "cell_type": "markdown",
   "metadata": {},
   "source": [
    "### Task 4 .............................Tuples & Set (Immutable)\n",
    "\n",
    "\n",
    "### Python Tuples\n",
    "A tuple is another sequence data type that is similar to the list. A tuple consists of a number of values separated by commas. \n",
    "Unlike lists, however, tuples are enclosed within parentheses.\n",
    "\n",
    "The main differences between lists and tuples are: Lists are enclosed in brackets ( [ ] ) and their elements and size can be\n",
    "changed, while tuples are enclosed in parentheses ( ( ) ) and cannot be updated. Tuples can be thought of as read-only lists.\n",
    "For example −"
   ]
  },
  {
   "cell_type": "code",
   "execution_count": null,
   "metadata": {},
   "outputs": [],
   "source": [
    "tup = (21,36,44,56,76,44)\n",
    "tup[1]\n",
    "#tup[1] = 33 ## cant be changed "
   ]
  },
  {
   "cell_type": "code",
   "execution_count": null,
   "metadata": {},
   "outputs": [],
   "source": [
    "tup.count  ## The main reason to use tuple instead of list \n",
    "tup.index  ## When you Have requirement of not to change values (Iteration is faster  )"
   ]
  },
  {
   "cell_type": "markdown",
   "metadata": {},
   "source": [
    "## SET not maintain sequence & Unique elements \n",
    "\n",
    "* A set is an unordered collection of items. Every element is unique (no duplicates) and must be immutable (which cannot be changed).\n",
    "\n",
    "* However, the set itself is mutable. We can add or remove items from it.\n",
    "\n",
    "* Sets can be used to perform mathematical set operations like union, intersection, symmetric difference etc.\n",
    "\n",
    "* A set is created by placing all the items (elements) inside curly braces {}, separated by comma or by using the built-in function set().\n",
    "\n",
    "* It can have any number of items and they may be of different types (integer, float, tuple, string etc.). But a set cannot have a mutable element, like list, set or dictionary, as its element.\n"
   ]
  },
  {
   "cell_type": "code",
   "execution_count": null,
   "metadata": {},
   "outputs": [],
   "source": [
    "S = {22,23,34,45,56,67,78,89}\n",
    "print(S)\n",
    "\n",
    "Set = {'Manohar',\"Maharajas\",7.0,(9,7,0,55,61.871)}\n",
    "print(Set)"
   ]
  },
  {
   "cell_type": "markdown",
   "metadata": {},
   "source": [
    "## Task - 5...................... (Dictionaries :  key and value )\n",
    "\n",
    "* Python's dictionaries are kind of hash table type. They work like associative arrays or hashes found in Perl and consist\n",
    "  of key-value pairs. A dictionary key can be almost any Python type, but are usually numbers or strings. Values, on the other\n",
    "  hand, can be any arbitrary Python object.\n",
    "  \n",
    "* Python dictionary is an unordered collection of items. While other compound data types have only value as an element, a dictionary has a key: value pair.Dictionaries are optimized to retrieve values when the key is known.  \n",
    "\n",
    "* Creating a dictionary is as simple as placing items inside curly braces {} separated by comma.An item has a key and the corresponding value expressed as a pair, key : value.\n",
    "\n",
    "* While values can be of any data type and can repeat, keys must be of immutable type (string, number or tuple with immutable elements) and must be unique"
   ]
  },
  {
   "cell_type": "code",
   "execution_count": null,
   "metadata": {},
   "outputs": [],
   "source": [
    "Batchusgroup = {2:'Sevensigma',1:'MaharajaAcres',7:'MaharajaInternational',5:'MaharajaCorporate banking',8:'MaharajaAviation'}\n",
    "Batchusgroup"
   ]
  },
  {
   "cell_type": "code",
   "execution_count": null,
   "metadata": {},
   "outputs": [],
   "source": [
    "Batchusgroup[2]"
   ]
  },
  {
   "cell_type": "code",
   "execution_count": null,
   "metadata": {},
   "outputs": [],
   "source": [
    "Batchusgroup.get(7)"
   ]
  },
  {
   "cell_type": "code",
   "execution_count": null,
   "metadata": {},
   "outputs": [],
   "source": [
    "Brothers = ['Manohar','SaiKrishna ','MuraliKrishna ']\n",
    "Occupation   = ['Data Scientist ','Saftey Engineer','Full Stack developer']\n",
    "Bbros = dict(zip(Brothers,Occupation))\n",
    "Bbros"
   ]
  },
  {
   "cell_type": "code",
   "execution_count": null,
   "metadata": {},
   "outputs": [],
   "source": [
    "Bbros['Nagireddy'] ='RealEstate'\n",
    "Bbros"
   ]
  },
  {
   "cell_type": "code",
   "execution_count": null,
   "metadata": {},
   "outputs": [],
   "source": [
    "del Bbros['Nagireddy']\n",
    "Bbros"
   ]
  },
  {
   "cell_type": "code",
   "execution_count": null,
   "metadata": {},
   "outputs": [],
   "source": [
    "## Creating a new Diconary With Dictonary \n",
    "prog = {'JS': 'Atom','CS':'VS','Python':['Pycharm','Sublime'],'Java':{'JSE':'Netbeans','JEE':'Eclipse'}}"
   ]
  },
  {
   "cell_type": "code",
   "execution_count": null,
   "metadata": {},
   "outputs": [],
   "source": [
    "prog['JS']"
   ]
  },
  {
   "cell_type": "code",
   "execution_count": null,
   "metadata": {},
   "outputs": [],
   "source": [
    "prog['Python']"
   ]
  },
  {
   "cell_type": "code",
   "execution_count": null,
   "metadata": {},
   "outputs": [],
   "source": [
    "prog['Python'][1]"
   ]
  },
  {
   "cell_type": "code",
   "execution_count": null,
   "metadata": {},
   "outputs": [],
   "source": [
    "prog['Java']['JEE']"
   ]
  },
  {
   "cell_type": "markdown",
   "metadata": {},
   "source": [
    "### Task 6 More Variables & Data Types  in Python "
   ]
  },
  {
   "cell_type": "code",
   "execution_count": null,
   "metadata": {},
   "outputs": [],
   "source": [
    "num = 7 \n",
    "print(id(num))\n",
    "name = 'Manohar'\n",
    "print(id(name))\n",
    "a = 7 \n",
    "b = a\n",
    "print(a)\n",
    "print(b)\n",
    "## From this we came to knoe that Python is more memory locatio with id address tags "
   ]
  },
  {
   "cell_type": "code",
   "execution_count": null,
   "metadata": {},
   "outputs": [],
   "source": [
    "num = 7.5\n",
    "print(type(num))\n",
    "num = 7\n",
    "print(type(num))\n",
    "num = 7+5j\n",
    "print(type(num))\n",
    "a = 7.6\n",
    "b = int(a) ## Converting complex value into int\n",
    "print(type(b))\n",
    "k = float(b)\n",
    "print(k)\n",
    "k = 79\n",
    "c = complex(b,k)\n",
    "print(c)\n",
    "bool = b<k\n",
    "print(bool)\n",
    "type(bool)\n",
    "range(10)"
   ]
  },
  {
   "cell_type": "code",
   "execution_count": null,
   "metadata": {
    "scrolled": true
   },
   "outputs": [],
   "source": [
    "d = {'manohar' : 'honour6x','lachi' : 'realme 4 ', 'chanti':'mi 8','nagireddy':'mi8+'}\n",
    "print(d.keys())\n",
    "print(d.values())\n",
    "d['lachi'] \n",
    "d.get('manohar')"
   ]
  },
  {
   "cell_type": "markdown",
   "metadata": {},
   "source": [
    "### Task --7 Operators in Python \n",
    "* Airthematic Operator\n",
    "* Assignment Operator\n",
    "* Relational Operator\n",
    "* Logical Operator\n",
    "* Unary Operator "
   ]
  },
  {
   "cell_type": "code",
   "execution_count": null,
   "metadata": {},
   "outputs": [],
   "source": [
    "x =  2\n",
    "y = 3\n",
    "print(x+y)\n",
    "print(x-y)\n",
    "print(x*y)\n",
    "print(x/y)\n",
    "x =x+2\n",
    "print(x)\n",
    "x += 2\n",
    "print(x)\n",
    "x *= 3\n",
    "print(x)\n",
    "a,b = 7,8\n",
    "print(a)\n",
    "print(b)\n",
    "n = 7\n",
    "print(n)\n",
    "print(-n)\n",
    "print(a<b)\n",
    "print(a>b)\n",
    "print(a <= b)\n",
    "print(a >= b)\n",
    "print(a != b)\n"
   ]
  },
  {
   "cell_type": "code",
   "execution_count": null,
   "metadata": {},
   "outputs": [],
   "source": [
    "a = 7 \n",
    "b = 4\n",
    "print(a<8 and b>5)\n",
    "print(a<5 and b<2)\n",
    "print(a<5 or b<2)\n",
    "print(a>5 or b<2)\n",
    "print(a>5 or b>2)\n",
    "x =True\n",
    "print(x)\n",
    "print(not x)\n",
    "x = not x"
   ]
  },
  {
   "cell_type": "markdown",
   "metadata": {},
   "source": [
    "### Task -8  Number System Conversion in python  \n",
    "* Binary \n",
    "* Decimal \n",
    "* Octal \n",
    "* Hexa Decimal\n",
    "\n",
    "\n",
    "\n",
    "\n"
   ]
  },
  {
   "cell_type": "code",
   "execution_count": null,
   "metadata": {},
   "outputs": [],
   "source": [
    "print(bin(35)) # decimal to binary \n",
    "print(oct(25))\n",
    "print(hex(40))\n",
    "print(0xf)"
   ]
  },
  {
   "cell_type": "markdown",
   "metadata": {},
   "source": [
    "### Task - 9 Swap 2 variables In Python "
   ]
  },
  {
   "cell_type": "code",
   "execution_count": null,
   "metadata": {},
   "outputs": [],
   "source": [
    "## Method - 01 swapping with the variable \n",
    "\n",
    "a = 7\n",
    "b = 11\n",
    "\n",
    "temp = a\n",
    "\n",
    "a = b\n",
    "b = temp \n",
    "\n",
    "print(a)\n",
    "print(b)"
   ]
  },
  {
   "cell_type": "code",
   "execution_count": null,
   "metadata": {},
   "outputs": [],
   "source": [
    "### Method - 2 Swapping with the Formula (We Dont kmow how it works the formula)\n",
    "a = 5\n",
    "b = 9\n",
    "\n",
    "a = a+b \n",
    "b = a-b\n",
    "a = a-b\n",
    "\n",
    "\n",
    "print(a)\n",
    "print(b)"
   ]
  },
  {
   "cell_type": "code",
   "execution_count": null,
   "metadata": {},
   "outputs": [],
   "source": [
    "### MEthod - 3 Swapping with  the bits\n",
    "a = 3\n",
    "b = 8\n",
    "a,b = b,a ## It Goes into stack\n",
    "\n",
    "print(a)\n",
    "print(b)"
   ]
  },
  {
   "cell_type": "code",
   "execution_count": null,
   "metadata": {},
   "outputs": [],
   "source": [
    "class TopTen:\n",
    "\n",
    "    def __init__(self):\n",
    "        self.num = 1\n",
    "\n",
    "    def __iter__(self):\n",
    "        return self\n",
    "\n",
    "    def __next__(self):\n",
    "\n",
    "        if self.num <= 10:\n",
    "            val = self.num\n",
    "            self.num += 1\n",
    "\n",
    "            return val\n",
    "        else:\n",
    "            raise StopIteration\n",
    "\n",
    "values = TopTen()\n",
    "print(next(values))\n",
    "\n",
    "for i in values:\n",
    "    print(i)"
   ]
  },
  {
   "cell_type": "code",
   "execution_count": null,
   "metadata": {},
   "outputs": [],
   "source": [
    "## FOR Loop to Prime Numbers \n",
    "num =46\n",
    "for i in range(2,num):\n",
    "    if num % i ==0:\n",
    "        print(\"Not prime\")\n",
    "        break\n",
    "\n",
    "\n",
    "else:\n",
    "    print(\"prime\")"
   ]
  },
  {
   "cell_type": "markdown",
   "metadata": {},
   "source": [
    "### Task -10 Bit-Wise Operators"
   ]
  },
  {
   "cell_type": "code",
   "execution_count": null,
   "metadata": {},
   "outputs": [],
   "source": [
    "print(~121)   # Complement Operator\n",
    "print(11&13) # And Operations\n",
    "print(14|15) # or\n",
    "print(12^1)  #XOR (Conditional)\n",
    "print(13^14) # Left Shift\n",
    "print(25^30) # Right Shift"
   ]
  },
  {
   "cell_type": "markdown",
   "metadata": {},
   "source": [
    "### Task - 11 Import Maths Function in python "
   ]
  },
  {
   "cell_type": "code",
   "execution_count": null,
   "metadata": {},
   "outputs": [],
   "source": [
    "import math\n",
    "x = math.sqrt(729)\n",
    "x\n"
   ]
  },
  {
   "cell_type": "code",
   "execution_count": null,
   "metadata": {},
   "outputs": [],
   "source": [
    "print(math.floor(75.34))"
   ]
  },
  {
   "cell_type": "code",
   "execution_count": null,
   "metadata": {},
   "outputs": [],
   "source": [
    "print(math.ceil(57.65))"
   ]
  },
  {
   "cell_type": "code",
   "execution_count": null,
   "metadata": {},
   "outputs": [],
   "source": [
    "7**4"
   ]
  },
  {
   "cell_type": "code",
   "execution_count": null,
   "metadata": {},
   "outputs": [],
   "source": [
    "print(math.pow(3,2))\n",
    "print(math.pi)\n",
    "print(math.e)"
   ]
  },
  {
   "cell_type": "code",
   "execution_count": null,
   "metadata": {},
   "outputs": [],
   "source": [
    "from math import sqrt, pow\n",
    "pow(3,5)"
   ]
  },
  {
   "cell_type": "markdown",
   "metadata": {},
   "source": [
    "### Task -- 12 User Input Function {Int,Float,Char,Eval}"
   ]
  },
  {
   "cell_type": "code",
   "execution_count": null,
   "metadata": {},
   "outputs": [],
   "source": [
    "x = input(\"Enter 1 st number \")\n",
    "a = int(x)\n",
    "y = input(\"Enter 2 nd number\")\n",
    "b = int(y)\n",
    "z = a+b\n",
    "print(z)"
   ]
  },
  {
   "cell_type": "code",
   "execution_count": null,
   "metadata": {},
   "outputs": [],
   "source": [
    "x = input(\"Enter 1 st number \")\n",
    "a = float(x)\n",
    "y = input(\"Enter 2 nd number\")\n",
    "b = float(y)\n",
    "z = a+b\n",
    "print(z)"
   ]
  },
  {
   "cell_type": "code",
   "execution_count": null,
   "metadata": {
    "scrolled": true
   },
   "outputs": [],
   "source": [
    "ch = input(\"Enter a character\")[0]\n",
    "print(ch)"
   ]
  },
  {
   "cell_type": "code",
   "execution_count": null,
   "metadata": {},
   "outputs": [],
   "source": [
    "result = eval(input('enter an expr'))\n",
    "print(result)"
   ]
  },
  {
   "cell_type": "code",
   "execution_count": null,
   "metadata": {},
   "outputs": [],
   "source": [
    "import sys\n",
    "x = sys.argv[1]\n",
    "y = sys.argv[2]\n",
    "z= x+y\n",
    "print(z)"
   ]
  },
  {
   "cell_type": "markdown",
   "metadata": {},
   "source": [
    "### Task -- 13  IF ELIF Else Statment \n",
    "\n",
    "* Instead of using two if we can use only one if with ELSE Statement \n",
    "* Insted of using two if for to evaluate the conditions we can use nested if "
   ]
  },
  {
   "cell_type": "code",
   "execution_count": null,
   "metadata": {},
   "outputs": [],
   "source": [
    "## Printing one Condition  Statement \n",
    "\n",
    "x = 7\n",
    "r = x % 2\n",
    "if r==0:\n",
    "    print(\"Even\")\n",
    "else: \n",
    "    print(\"Odd\")\n"
   ]
  },
  {
   "cell_type": "code",
   "execution_count": null,
   "metadata": {},
   "outputs": [],
   "source": [
    "## Printing two Conditional Statement \n",
    "x = 7\n",
    "r = x % 2\n",
    "if r==0:\n",
    "    print(\"Even\")\n",
    "    if x>5:\n",
    "        print(\"Greater Number\")"
   ]
  },
  {
   "cell_type": "code",
   "execution_count": null,
   "metadata": {},
   "outputs": [],
   "source": [
    "## Printing Three Conditional Statement  =\n",
    "x = 7\n",
    "r = x % 2\n",
    "if r==0:\n",
    "    print(\"Even\")\n",
    "    if x>5:\n",
    "        print(\"Greater Number\")\n",
    "    else:\n",
    "        print(\"Not so Great\")\n",
    "else:\n",
    "    print(\"Odd\")\n"
   ]
  },
  {
   "cell_type": "code",
   "execution_count": null,
   "metadata": {},
   "outputs": [],
   "source": [
    "## IF ELIF ELSE\n",
    "\n",
    "x = 7\n",
    "if x==1:\n",
    "    print(\"ONE\")    \n",
    "elif(x==2):\n",
    "    print(\"TWO\")\n",
    "elif(x==3):\n",
    "    print(\"Three\")\n",
    "elif(x==4):\n",
    "    print(\"Four\")\n",
    "else:\n",
    "    print(\"Wrong Input\")\n"
   ]
  },
  {
   "cell_type": "markdown",
   "metadata": {},
   "source": [
    "### Task 14 While LOOP In Python (WHILE )\n",
    "\n",
    "* IF we Want to print the same statement for multiple time we can use Loops \n",
    "\n",
    "* WHILE(Intialization,Condition,Incerement /Decrement)\n",
    "* FOR\n"
   ]
  },
  {
   "cell_type": "code",
   "execution_count": null,
   "metadata": {},
   "outputs": [],
   "source": [
    "i = 1\n",
    "while i<=5:  # Increment \n",
    "    print(\"Telusko\")\n",
    "    i = i+1\n",
    "    "
   ]
  },
  {
   "cell_type": "code",
   "execution_count": null,
   "metadata": {},
   "outputs": [],
   "source": [
    "i = 5\n",
    "while i>=1:  # Decrement \n",
    "    print(\"Telusko\",i)\n",
    "    i = i-1\n",
    "    "
   ]
  },
  {
   "cell_type": "code",
   "execution_count": null,
   "metadata": {},
   "outputs": [],
   "source": [
    "i = 1\n",
    "while i<=5:  # Decrement \n",
    "    print(\"Telusko\",end=\"\")\n",
    "    j=1\n",
    "    while j<4:                ###printing 3 time \n",
    "        print(\"YouTube Channel\",end=\"\")\n",
    "        j = j+1\n",
    "        \n",
    "    i= i+1 \n",
    "    print()    "
   ]
  },
  {
   "cell_type": "markdown",
   "metadata": {},
   "source": [
    "### Task 15  LOOP In Python (FOR)\n",
    "* Doesn't Matter what the values in the list just you can print all the values in the list by using for loop\n",
    "* we can not only useful list but also Tuple and as well Dictionary "
   ]
  },
  {
   "cell_type": "code",
   "execution_count": null,
   "metadata": {},
   "outputs": [],
   "source": [
    "M = ['Manohar',7,21.00]\n",
    "for i in M:\n",
    "    print(i)"
   ]
  },
  {
   "cell_type": "code",
   "execution_count": null,
   "metadata": {},
   "outputs": [],
   "source": [
    "for i in range(1,50,7):\n",
    "    print(i)"
   ]
  },
  {
   "cell_type": "code",
   "execution_count": null,
   "metadata": {},
   "outputs": [],
   "source": [
    "for i in range(1,11):\n",
    "    if i%5!=0:\n",
    "        print(i)"
   ]
  },
  {
   "cell_type": "code",
   "execution_count": null,
   "metadata": {},
   "outputs": [],
   "source": []
  }
 ],
 "metadata": {
  "kernelspec": {
   "display_name": "Python 3",
   "language": "python",
   "name": "python3"
  },
  "language_info": {
   "codemirror_mode": {
    "name": "ipython",
    "version": 3
   },
   "file_extension": ".py",
   "mimetype": "text/x-python",
   "name": "python",
   "nbconvert_exporter": "python",
   "pygments_lexer": "ipython3",
   "version": "3.7.1"
  }
 },
 "nbformat": 4,
 "nbformat_minor": 2
}
